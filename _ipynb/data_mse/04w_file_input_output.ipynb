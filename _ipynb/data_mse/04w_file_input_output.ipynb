{
 "cells": [
  {
   "cell_type": "code",
   "execution_count": 1,
   "metadata": {},
   "outputs": [],
   "source": [
    "import numpy as np"
   ]
  },
  {
   "cell_type": "code",
   "execution_count": 3,
   "metadata": {},
   "outputs": [
    {
     "name": "stdout",
     "output_type": "stream",
     "text": [
      "matrix\n",
      "matrix_01.csv\n",
      "matrix_01.csv~\n",
      "matrix_01.txt\n",
      "matrix_01.txt~\n",
      "matrix_02.txt\n",
      "matrix_03.txt\n",
      "\u001b[31mscore_record_2017_MF_final_analysis.txt\u001b[m\u001b[m*\n"
     ]
    }
   ],
   "source": [
    "ls ../data/"
   ]
  },
  {
   "cell_type": "markdown",
   "metadata": {},
   "source": [
    "## Numpy"
   ]
  },
  {
   "cell_type": "code",
   "execution_count": 5,
   "metadata": {},
   "outputs": [
    {
     "name": "stdout",
     "output_type": "stream",
     "text": [
      "1.26.4\n",
      "/Users/youngung/.pyenv/versions/3.12.2/lib/python3.12/site-packages/numpy/__init__.py\n",
      "(2, 3)\n",
      "2\n",
      "6\n",
      "int64\n",
      "[1 2 3 4 5 6]\n",
      "21\n"
     ]
    }
   ],
   "source": [
    "import numpy as np\n",
    "print(np.__version__)\n",
    "print(np.__file__)\n",
    "arr = np.array([[1, 2, 3], [4, 5, 6]])\n",
    "print(arr.shape)   # (2, 3) → 2행 3열\n",
    "print(arr.ndim)    # 차원 수 → 2\n",
    "print(arr.size)    # 전체 원소 개수 → 6\n",
    "print(arr.dtype)   # 데이터 타입 → int64 (환경에 따라 다름)\n",
    "print(arr.flatten())\n",
    "print(arr.flatten().sum())"
   ]
  },
  {
   "cell_type": "code",
   "execution_count": 9,
   "metadata": {},
   "outputs": [
    {
     "data": {
      "text/plain": [
       "21"
      ]
     },
     "execution_count": 9,
     "metadata": {},
     "output_type": "execute_result"
    }
   ],
   "source": [
    "arr.flatten().sum()"
   ]
  },
  {
   "cell_type": "code",
   "execution_count": null,
   "metadata": {},
   "outputs": [
    {
     "name": "stdout",
     "output_type": "stream",
     "text": [
      "[[1 2 3]\n",
      " [4 5 6]]\n",
      "[[6 5 4]\n",
      " [3 2 1]]\n",
      "[[4 5 6]\n",
      " [1 2 3]]\n",
      "[[3 2 1]\n",
      " [6 5 4]]\n"
     ]
    }
   ],
   "source": [
    "print(arr)\n",
    "#print(arr[1::,1::])\n",
    "#print(arr[::2,::2])\n",
    "print(arr[::-1,::-1])\n",
    "print(arr[::-1,::])\n",
    "print(arr[::,::-1])"
   ]
  },
  {
   "cell_type": "code",
   "execution_count": null,
   "metadata": {},
   "outputs": [
    {
     "name": "stdout",
     "output_type": "stream",
     "text": [
      "32.0\n",
      "32\n",
      "32\n"
     ]
    }
   ],
   "source": [
    "a=np.array([1,2,3])\n",
    "b=np.array([4,5,6])\n",
    "dotprod=0.\n",
    "for i in range(len(a)):\n",
    "    dotprod+=a[i]*b[i]\n",
    "print(dotprod)\n",
    "dotprod=(a*b).sum()\n",
    "print(dotprod)\n",
    "\n",
    "print(a@b)"
   ]
  },
  {
   "cell_type": "markdown",
   "metadata": {},
   "source": [
    "## Matrix multiplication"
   ]
  },
  {
   "cell_type": "code",
   "execution_count": 28,
   "metadata": {},
   "outputs": [
    {
     "name": "stdout",
     "output_type": "stream",
     "text": [
      "1: [[4, 6], [10, 12]]\n"
     ]
    }
   ],
   "source": [
    "A = np.array([[1, 2], [3, 4]])\n",
    "B = np.array([[2, 0], [1, 3]])\n",
    "\n",
    "C=[[0,0],[0,0]] # initialization\n",
    "C[0][0]=A[0,0]*B[0,0]+A[0,1]*B[1,0]\n",
    "C[0][1]=A[0,0]*B[0,1]+A[0,1]*B[1,1]\n",
    "C[1][0]=A[1,0]*B[0,0]+A[1,1]*B[1,0]\n",
    "C[1][1]=A[1,0]*B[0,1]+A[1,1]*B[1,1]\n",
    "print('1:',C)"
   ]
  },
  {
   "cell_type": "code",
   "execution_count": 29,
   "metadata": {},
   "outputs": [
    {
     "name": "stdout",
     "output_type": "stream",
     "text": [
      "2: [[4, 6], [10, 12]]\n"
     ]
    }
   ],
   "source": [
    "C=[[0,0],[0,0]]\n",
    "i=0;j=0\n",
    "C[i][j]=A[i,0]*B[0,j]+A[i,1]*B[1,j]\n",
    "i=0;j=1\n",
    "C[i][j]=A[i,0]*B[0,j]+A[i,1]*B[1,j]\n",
    "i=1;j=0\n",
    "C[i][j]=A[i,0]*B[0,j]+A[i,1]*B[1,j]\n",
    "i=1;j=1\n",
    "C[i][1]=A[i,0]*B[0,j]+A[i,1]*B[j,1]\n",
    "print('2:',C)"
   ]
  },
  {
   "cell_type": "code",
   "execution_count": null,
   "metadata": {},
   "outputs": [],
   "source": []
  }
 ],
 "metadata": {
  "colab": {
   "provenance": [
    {
     "file_id": "1tXaztFLYXnI8JmkaNE8O3XX2M9nW3KAW",
     "timestamp": 1677195836241
    }
   ]
  },
  "gpuClass": "standard",
  "kernelspec": {
   "display_name": "3.12.2",
   "language": "python",
   "name": "python3"
  },
  "language_info": {
   "codemirror_mode": {
    "name": "ipython",
    "version": 3
   },
   "file_extension": ".py",
   "mimetype": "text/x-python",
   "name": "python",
   "nbconvert_exporter": "python",
   "pygments_lexer": "ipython3",
   "version": "3.12.2"
  }
 },
 "nbformat": 4,
 "nbformat_minor": 0
}
