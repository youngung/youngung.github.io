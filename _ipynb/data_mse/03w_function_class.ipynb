{
 "cells": [
  {
   "cell_type": "code",
   "execution_count": 1,
   "id": "ed267cb8",
   "metadata": {},
   "outputs": [
    {
     "name": "stdout",
     "output_type": "stream",
     "text": [
      "\n",
      "  a and b are arguments and this function returs a+b\n",
      "  \n",
      "Help on function func in module __main__:\n",
      "\n",
      "func(a=3, b=5)\n",
      "    a and b are arguments and this function returs a+b\n",
      "\n",
      "None\n"
     ]
    }
   ],
   "source": [
    "def func(a=3,b=5): # 함수의 이름이 'func', 입력 a와 b의 default가 있음.\n",
    "  \"\"\"\n",
    "  a and b are arguments and this function returs a+b\n",
    "  \"\"\"\n",
    "  return a+b\n",
    "\n",
    "print(func.__doc__)\n",
    "print(help(func))"
   ]
  },
  {
   "cell_type": "code",
   "execution_count": 2,
   "id": "cb58bf78",
   "metadata": {},
   "outputs": [
    {
     "name": "stdout",
     "output_type": "stream",
     "text": [
      "Help on _Helper in module _sitebuiltins object:\n",
      "\n",
      "class _Helper(builtins.object)\n",
      " |  Define the builtin 'help'.\n",
      " |\n",
      " |  This is a wrapper around pydoc.help that provides a helpful message\n",
      " |  when 'help' is typed at the Python interactive prompt.\n",
      " |\n",
      " |  Calling help() at the Python prompt starts an interactive help session.\n",
      " |  Calling help(thing) prints help for the python object 'thing'.\n",
      " |\n",
      " |  Methods defined here:\n",
      " |\n",
      " |  __call__(self, *args, **kwds)\n",
      " |      Call self as a function.\n",
      " |\n",
      " |  __repr__(self)\n",
      " |      Return repr(self).\n",
      " |\n",
      " |  ----------------------------------------------------------------------\n",
      " |  Data descriptors defined here:\n",
      " |\n",
      " |  __dict__\n",
      " |      dictionary for instance variables\n",
      " |\n",
      " |  __weakref__\n",
      " |      list of weak references to the object\n",
      "\n"
     ]
    }
   ],
   "source": [
    "help(help)"
   ]
  },
  {
   "cell_type": "code",
   "execution_count": 5,
   "id": "b3d4fc5b",
   "metadata": {},
   "outputs": [
    {
     "ename": "SyntaxError",
     "evalue": "parameter without a default follows parameter with a default (2171723324.py, line 1)",
     "output_type": "error",
     "traceback": [
      "\u001b[0;36m  Cell \u001b[0;32mIn[5], line 1\u001b[0;36m\u001b[0m\n\u001b[0;31m    def f(a=3,b=5,c,d):\u001b[0m\n\u001b[0m                  ^\u001b[0m\n\u001b[0;31mSyntaxError\u001b[0m\u001b[0;31m:\u001b[0m parameter without a default follows parameter with a default\n"
     ]
    }
   ],
   "source": [
    "def f(a=3,b=5,c,d):\n",
    "    print(a+b)\n",
    "    print(c+d)\n",
    "    return a*b*c*d"
   ]
  },
  {
   "cell_type": "code",
   "execution_count": 6,
   "id": "4e2322da",
   "metadata": {},
   "outputs": [],
   "source": [
    "class MyList:\n",
    "    def __init__(self, items=None):\n",
    "        if items is None:\n",
    "            self.items = []\n",
    "        else:\n",
    "            self.items = items\n",
    "\n",
    "    def append(self, value):\n",
    "        self.items += [value]\n",
    "\n",
    "    def __len__(self):\n",
    "        return len(self.items)\n",
    "\n",
    "    def __getitem__(self, index):\n",
    "        return self.items[index]\n",
    "\n",
    "    def __str__(self):\n",
    "        return str(self.items)"
   ]
  },
  {
   "cell_type": "code",
   "execution_count": 7,
   "id": "2d84c336",
   "metadata": {},
   "outputs": [
    {
     "name": "stdout",
     "output_type": "stream",
     "text": [
      "[1, 2, 3]\n",
      "[1, 2, 3, 4]\n",
      "4\n",
      "3\n"
     ]
    }
   ],
   "source": [
    "mylist = MyList([1, 2, 3]) ## 앞서 선언된 MyList 클래스.\n",
    "print(mylist)          # [1, 2, 3]\n",
    "\n",
    "mylist.append(4)\n",
    "print(mylist)          # [1, 2, 3, 4]\n",
    "\n",
    "print(len(mylist))     # 4\n",
    "print(mylist[2])       # 3"
   ]
  }
 ],
 "metadata": {
  "kernelspec": {
   "display_name": "3.12.2",
   "language": "python",
   "name": "python3"
  },
  "language_info": {
   "codemirror_mode": {
    "name": "ipython",
    "version": 3
   },
   "file_extension": ".py",
   "mimetype": "text/x-python",
   "name": "python",
   "nbconvert_exporter": "python",
   "pygments_lexer": "ipython3",
   "version": "3.12.2"
  }
 },
 "nbformat": 4,
 "nbformat_minor": 5
}
