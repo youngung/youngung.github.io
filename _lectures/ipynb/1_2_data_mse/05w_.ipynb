{
 "cells": [
  {
   "cell_type": "code",
   "execution_count": 19,
   "id": "3d9042be",
   "metadata": {},
   "outputs": [],
   "source": [
    "import numpy as np"
   ]
  },
  {
   "cell_type": "code",
   "execution_count": 30,
   "id": "81afc470",
   "metadata": {},
   "outputs": [
    {
     "name": "stdout",
     "output_type": "stream",
     "text": [
      "1: [[4, 6], [10, 12]]\n",
      "2: [[4, 6], [10, 12]]\n",
      "3: [[4, 6], [10, 12]]\n",
      "4: [[4, 6], [10, 12]]\n",
      "5: [[4, 6], [10, 12]]\n",
      "6: [[ 4  6]\n",
      " [10 12]]\n",
      "7: [[ 4  6]\n",
      " [10 12]]\n"
     ]
    }
   ],
   "source": [
    "A = np.array([[1, 2], [3, 4]])\n",
    "B = np.array([[2, 0], [1, 3]])\n",
    "\n",
    "C=[[0,0],[0,0]]\n",
    "C[0][0]=A[0,0]*B[0,0]+A[0,1]*B[1,0]\n",
    "C[0][1]=A[0,0]*B[0,1]+A[0,1]*B[1,1]\n",
    "C[1][0]=A[1,0]*B[0,0]+A[1,1]*B[1,0]\n",
    "C[1][1]=A[1,0]*B[0,1]+A[1,1]*B[1,1]\n",
    "print('1:',C)\n",
    "\n",
    "C=[[0,0],[0,0]]\n",
    "i=0;j=0\n",
    "C[i][j]=A[i,0]*B[0,j]+A[i,1]*B[1,j]\n",
    "i=0;j=1\n",
    "C[i][j]=A[i,0]*B[0,j]+A[i,1]*B[1,j]\n",
    "i=1;j=0\n",
    "C[i][j]=A[i,0]*B[0,j]+A[i,1]*B[1,j]\n",
    "i=1;j=1\n",
    "C[i][1]=A[i,0]*B[0,j]+A[i,1]*B[j,1]\n",
    "print('2:',C)\n",
    "\n",
    "\n",
    "\n",
    "C=[[0,0],[0,0]]\n",
    "i=0;j=0\n",
    "C[i][j]=A[i,0]*B[0,j]+A[i,1]*B[1,j] ## 네 statements가 동일함에 주목!\n",
    "i=0;j=1\n",
    "C[i][j]=A[i,0]*B[0,j]+A[i,1]*B[1,j] ## 각 line속에서 0,1로 바뀌는 index에 주목!\n",
    "i=1;j=0\n",
    "C[i][j]=A[i,0]*B[0,j]+A[i,1]*B[1,j] ## 그리고 각 인덱스가 반복됨에 주목하자.\n",
    "i=1;j=1\n",
    "C[i][1]=A[i,0]*B[0,j]+A[i,1]*B[j,1]\n",
    "print('3:',C)\n",
    "\n",
    "\n",
    "#따라서...\n",
    "C=[[0,0],[0,0]]\n",
    "for i in range(2):\n",
    "    for j in range(2):\n",
    "        C[i][j]=A[i,0]*B[0,j]+A[i,1]*B[1,j] ## 네 statements가 동일함에 주목!\n",
    "print('4:',C)\n",
    "\n",
    "#더 줄이면?\n",
    "C=[[0,0],[0,0]]\n",
    "for i in range(2):\n",
    "    for j in range(2):\n",
    "        for k in range(2):\n",
    "            C[i][j]+=A[i,k]*B[k,j]\n",
    "print('5:',C)\n",
    "\n",
    "\n",
    "print('6:',A @ B)          # 행렬 곱\n",
    "print('7:',np.dot(A, B))   # 동일\n"
   ]
  },
  {
   "cell_type": "code",
   "execution_count": null,
   "id": "b6a66621",
   "metadata": {},
   "outputs": [],
   "source": []
  },
  {
   "cell_type": "code",
   "execution_count": null,
   "id": "807b6589",
   "metadata": {},
   "outputs": [],
   "source": []
  },
  {
   "cell_type": "code",
   "execution_count": 17,
   "id": "1422ff1f",
   "metadata": {},
   "outputs": [
    {
     "name": "stdout",
     "output_type": "stream",
     "text": [
      "costh:0.0\n",
      "ang in radian: 1.5707963267948966\n",
      "ang in degree: 90.00001872397223\n"
     ]
    }
   ],
   "source": [
    "def get_mag(v):\n",
    "    import math\n",
    "    return math.sqrt(v[0]**2+v[1]**2+v[2]**2)\n",
    "\n",
    "def get_ang(a,b):\n",
    "    import math\n",
    "    dotprod=0.\n",
    "    for i in range(3):\n",
    "        dotprod+=a[i]*b[i]\n",
    "    costh=dotprod/(get_mag(a)*get_mag(b))\n",
    "    print(f'costh:{costh}')\n",
    "    th=math.acos(costh)\n",
    "    return th\n",
    "\n",
    "a=[1,0,0]\n",
    "b=[0,1,0]\n",
    "angle=get_ang(a,b)\n",
    "print('ang in radian:', angle)\n",
    "## angle to degree?\n",
    "print('ang in degree:', angle*180/3.141592)"
   ]
  },
  {
   "cell_type": "code",
   "execution_count": null,
   "id": "0293c92f",
   "metadata": {},
   "outputs": [],
   "source": []
  }
 ],
 "metadata": {
  "kernelspec": {
   "display_name": "3.12.1",
   "language": "python",
   "name": "python3"
  },
  "language_info": {
   "codemirror_mode": {
    "name": "ipython",
    "version": 3
   },
   "file_extension": ".py",
   "mimetype": "text/x-python",
   "name": "python",
   "nbconvert_exporter": "python",
   "pygments_lexer": "ipython3",
   "version": "3.12.1"
  }
 },
 "nbformat": 4,
 "nbformat_minor": 5
}
